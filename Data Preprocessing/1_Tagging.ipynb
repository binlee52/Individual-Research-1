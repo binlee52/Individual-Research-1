{
  "nbformat": 4,
  "nbformat_minor": 0,
  "metadata": {
    "colab": {
      "name": "Tagging(Point Break).ipynb",
      "provenance": [],
      "collapsed_sections": [],
      "authorship_tag": "ABX9TyMQIIC6/SwqH74or+JA+Gch",
      "include_colab_link": true
    },
    "kernelspec": {
      "name": "python3",
      "display_name": "Python 3"
    }
  },
  "cells": [
    {
      "cell_type": "markdown",
      "metadata": {
        "id": "view-in-github",
        "colab_type": "text"
      },
      "source": [
        "<a href=\"https://colab.research.google.com/github/binlee52/Individaul-Research-1/blob/Data-Preprocessing/1_Tagging.ipynb\" target=\"_parent\"><img src=\"https://colab.research.google.com/assets/colab-badge.svg\" alt=\"Open In Colab\"/></a>"
      ]
    },
    {
      "cell_type": "markdown",
      "metadata": {
        "id": "pgl9LqiWeCyS",
        "colab_type": "text"
      },
      "source": [
        "# Tagging 방법\n",
        "\n",
        "**태깅** 요소 \n",
        "\n",
        "상황설명 : 1<br>\n",
        "등장인물 : 2<br>\n",
        "대사 : 3<br>\n",
        "지시사항/감정 : 4<br>\n",
        "장소 : 5<br>\n",
        "시간 : 6<br>\n",
        "시대 : 7<br>\n",
        "그 외 : 0<br>"
      ]
    },
    {
      "cell_type": "code",
      "metadata": {
        "id": "u9pBG0t7KIA-",
        "colab_type": "code",
        "colab": {}
      },
      "source": [
        "# Google drive 연결\n",
        "from google.colab import drive\n",
        "drive.mount('/content/drive')"
      ],
      "execution_count": 0,
      "outputs": []
    },
    {
      "cell_type": "code",
      "metadata": {
        "id": "fQl9RTEnKJ34",
        "colab_type": "code",
        "colab": {}
      },
      "source": [
        "import pandas as pd\n",
        "import numpy as np\n",
        "import re"
      ],
      "execution_count": 0,
      "outputs": []
    },
    {
      "cell_type": "code",
      "metadata": {
        "id": "uEk3f9M8_tc2",
        "colab_type": "code",
        "outputId": "5c7b2e89-82d8-46dc-9e19-ccedc37c3ef8",
        "colab": {
          "base_uri": "https://localhost:8080/",
          "height": 34
        }
      },
      "source": [
        "link = \"/content/drive/My Drive/Colab Notebooks/datasets/movie_Action.csv\"                  # movie_Action.csv load\n",
        "index = 192 # 태깅할 영화 선택\n",
        "data = pd.read_csv(link)                # movie_Action data의 Data Frame 생성\n",
        "imdbID = data.loc[index, 'imdb_id']     # imdb id 추출\n",
        "\n",
        "tagging_link = \"/content/drive/My Drive/Colab Notebooks/tagged_script/\" + imdbID + \".csv\"   # tagged script 저장 위치\n",
        "txt_link = \"/content/drive/My Drive/Colab Notebooks/datasets/script_text/\" + imdbID + \".txt\"\n",
        "imdbID"
      ],
      "execution_count": 0,
      "outputs": [
        {
          "output_type": "execute_result",
          "data": {
            "text/plain": [
              "'tt0822847'"
            ]
          },
          "metadata": {
            "tags": []
          },
          "execution_count": 3
        }
      ]
    },
    {
      "cell_type": "code",
      "metadata": {
        "id": "VrVtk6Hb8q0e",
        "colab_type": "code",
        "outputId": "e4799d7d-8dea-44cf-9bcb-723b3682858a",
        "colab": {
          "base_uri": "https://localhost:8080/",
          "height": 34
        }
      },
      "source": [
        "index = 193\n",
        "data.loc[index, 'movie_name']"
      ],
      "execution_count": 0,
      "outputs": [
        {
          "output_type": "execute_result",
          "data": {
            "text/plain": [
              "'Program, The'"
            ]
          },
          "metadata": {
            "tags": []
          },
          "execution_count": 5
        }
      ]
    },
    {
      "cell_type": "code",
      "metadata": {
        "id": "xEL16LsMZ2Ad",
        "colab_type": "code",
        "outputId": "7cebdb1a-83a9-46eb-c497-732bf6701c9a",
        "colab": {
          "base_uri": "https://localhost:8080/",
          "height": 34
        }
      },
      "source": [
        "df = pd.DataFrame(columns=[\"sentence\", \"label\"])    # tagged scrpt의 Data Frame 생성\n",
        "df.columns"
      ],
      "execution_count": 0,
      "outputs": [
        {
          "output_type": "execute_result",
          "data": {
            "text/plain": [
              "Index(['sentence', 'label'], dtype='object')"
            ]
          },
          "metadata": {
            "tags": []
          },
          "execution_count": 6
        }
      ]
    },
    {
      "cell_type": "markdown",
      "metadata": {
        "id": "rhP5vkNHAfRc",
        "colab_type": "text"
      },
      "source": [
        "사용할 script를 txt 파일로 변환 및 로드"
      ]
    },
    {
      "cell_type": "code",
      "metadata": {
        "id": "8W07GjWqKNBH",
        "colab_type": "code",
        "colab": {}
      },
      "source": [
        "temp_prepro =(data.loc[index, 'script'])\n",
        "temp_prepro"
      ],
      "execution_count": 0,
      "outputs": []
    },
    {
      "cell_type": "code",
      "metadata": {
        "id": "nxmPbceiKNxF",
        "colab_type": "code",
        "colab": {}
      },
      "source": [
        "#txt 파일로 저장\n",
        "with open(txt_link, 'w') as f:\n",
        "   for x in temp_prepro:\n",
        "       f.write(x)"
      ],
      "execution_count": 0,
      "outputs": []
    },
    {
      "cell_type": "code",
      "metadata": {
        "id": "2Za3e6IBRRFE",
        "colab_type": "code",
        "colab": {}
      },
      "source": [
        "# txt 파일 불러와서 list로 저장\n",
        "script = []\n",
        "with open(txt_link, 'r') as f:\n",
        "    lines = f.readlines()\n",
        "    for line in lines:\n",
        "        script.append(line)"
      ],
      "execution_count": 0,
      "outputs": []
    },
    {
      "cell_type": "markdown",
      "metadata": {
        "id": "oeBRge_NCFfc",
        "colab_type": "text"
      },
      "source": [
        "대본 전처리"
      ]
    },
    {
      "cell_type": "code",
      "metadata": {
        "id": "0hQ3NROxR8n9",
        "colab_type": "code",
        "colab": {}
      },
      "source": [
        "# script 조작\n",
        "script = []\n",
        "script = (data.loc[index, 'script'])\n",
        "script = script.split(\"\\n\")\n",
        "script = list(filter(lambda x: x!= '', script)) # 공백 제거\n",
        "# script = script[:10]\n",
        "script[:10]\n",
        "temp_re = re.compile('\\.\\.\\.')\n",
        "temp_re2 = re.compile('^[ ]+$')\n",
        "for (i, x) in enumerate(script):\n",
        "    script[i] = re.sub('\\.\\.\\.', ';;;', x)\n",
        "script_list = []\n",
        "for x in range(len(script)):\n",
        "    if not temp_re2.match(script[x]):\n",
        "        script_list.append(script[x])\n",
        "script = script_list\n",
        "#script = script[5:]\n",
        "script "
      ],
      "execution_count": 0,
      "outputs": []
    },
    {
      "cell_type": "markdown",
      "metadata": {
        "id": "-e7ZHcAGCUAl",
        "colab_type": "text"
      },
      "source": [
        "태깅"
      ]
    },
    {
      "cell_type": "code",
      "metadata": {
        "id": "7vvHI4DyUW8r",
        "colab_type": "code",
        "colab": {}
      },
      "source": [
        "# 정규식\n",
        "small_re = re.compile('[a-z]+')                     # 소문자가 있는지 판별\n",
        "situation_re = re.compile(' {15}[\\S]+')                  # 상황설명 1 \n",
        "person_re = re.compile(\" {37}[^a-z ]+[^a-z]*$\")      # 등장인물 2\n",
        "line_re = re.compile(' {25}[\\S]+')                   # 대사 3\n",
        "command_re = re.compile(' {30}[\\S]+')              # 감정/지시 4 # ' '*\n",
        "scence_re = re.compile(' {15}[A-Z]+[^a-z]*$')        # 씬 5, 6, 7\n",
        "in_re = re.compile('[^a-z]*INT.')\n",
        "out_re = re.compile('[^a-z]*EXT.')                  # 장소(내부/외부) 5\n",
        "#time_re = re.compile(' - [A-Z]+$')                  # 시간 6\n",
        "time_re = re.compile(' - [A-Z]+[\\-]*[A-Z]*$')\n",
        "fuck_re = re.compile('[--]$')\n",
        "t_re = re.compile('\\-')                              # 시대 7\n",
        "t2_re = re.compile('^ {10}[A-Z]+[A-Z ]*$')\n",
        "#                                                   # 그외 0\n",
        "#\n",
        "#------------------------------------------------------------------------------\n",
        "sentence_cnt = 0    # Data Frame의 index로 사용\n",
        "is_time = False     # 시간에 관한 데이터가 장소에 대한 data 보다 나중에 입력되지 않게 하기위해 사용"
      ],
      "execution_count": 0,
      "outputs": []
    },
    {
      "cell_type": "code",
      "metadata": {
        "id": "lU-aPWcchqIG",
        "colab_type": "code",
        "colab": {}
      },
      "source": [
        "# 태깅 진행\n",
        "\n",
        "for sc in script:\n",
        "    if small_re.search(sc):                                 # 소문자 판별\n",
        "        if line_re.match(sc):                               # 대사 3           \n",
        "            df.loc[sentence_cnt, 'sentence'] = sc.strip()\n",
        "            df.loc[sentence_cnt, 'label'] = 3\n",
        "        elif command_re.match(sc):                          # 지시/감정 4\n",
        "            df.loc[sentence_cnt, 'sentence'] = sc.strip()\n",
        "            df.loc[sentence_cnt, 'label'] = 4\n",
        "        elif situation_re.match(sc):                        # 상황설명 1\n",
        "            df.loc[sentence_cnt, 'sentence'] = sc.strip()\n",
        "            df.loc[sentence_cnt, 'label'] = 1\n",
        "        else:                                               # 기타 0\n",
        "            df.loc[sentence_cnt, 'sentence'] = sc\n",
        "            df.loc[sentence_cnt, 'label'] = 0\n",
        "    elif t2_re.match(sc) and not t_re.search(sc):        \n",
        "        df.loc[sentence_cnt, 'sentence'] = sc.strip()\n",
        "        df.loc[sentence_cnt, 'label'] = 0\n",
        "    else:\n",
        "        if fuck_re.search(sc):\n",
        "            df.loc[sentence_cnt, 'sentence'] = sc.strip()\n",
        "            df.loc[sentence_cnt, 'label'] = 0\n",
        "        elif line_re.match(sc):                               # 대사 3\n",
        "            df.loc[sentence_cnt, 'sentence'] = sc.strip()\n",
        "            df.loc[sentence_cnt, 'label'] = 3\n",
        "        elif person_re.match(sc):                           # 등장인물 2             \n",
        "            df.loc[sentence_cnt, 'sentence'] = sc.strip()\n",
        "            df.loc[sentence_cnt, 'label'] = 2    \n",
        "        elif scence_re.match(sc):                           # 씬 5, 6, 7\n",
        "            if in_re.match(sc):                             # INT. 5           \n",
        "                side = in_re.match(sc).group(0)\n",
        "                df.loc[sentence_cnt, 'sentence'] = side\n",
        "                df.loc[sentence_cnt, 'label'] = 5\n",
        "                sentence_cnt += 1\n",
        "                sc = sc.replace(side, \"\").strip()\n",
        "            elif out_re.match(sc):                          # EXT. 5\n",
        "                side = out_re.match(sc).group(0)\n",
        "                df.loc[sentence_cnt, 'sentence'] = side\n",
        "                df.loc[sentence_cnt, 'label'] = 5\n",
        "                sentence_cnt += 1\n",
        "                sc = sc.replace(side, \"\").strip()\n",
        "            if time_re.search(sc):                          # 시간 6\n",
        "                sentence_cnt += 1\n",
        "                time = time_re.search(sc).group(0)\n",
        "                sc = sc.replace(time, \"\").strip()\n",
        "                time = time.replace(\"-\", \" \").strip()        # '-' 삭제\n",
        "                df.loc[sentence_cnt, 'sentence'] = time\n",
        "                df.loc[sentence_cnt, 'label'] = 6\n",
        "                sentence_cnt -= 1\n",
        "                is_time = True    \n",
        "            df.loc[sentence_cnt, 'sentence'] = sc\n",
        "            df.loc[sentence_cnt, 'label'] = 5\n",
        "            if is_time:\n",
        "                sentence_cnt+=1\n",
        "                is_time = False\n",
        "        else:                                               # 기타 0\n",
        "            df.loc[sentence_cnt, 'sentence'] = sc\n",
        "            df.loc[sentence_cnt, 'label'] = 0\n",
        "    sentence_cnt += 1"
      ],
      "execution_count": 0,
      "outputs": []
    },
    {
      "cell_type": "code",
      "metadata": {
        "id": "S4ImaiRPQv3D",
        "colab_type": "code",
        "outputId": "f1c99eab-292e-44e6-ea63-e2c26dc109f5",
        "colab": {
          "base_uri": "https://localhost:8080/",
          "height": 402
        }
      },
      "source": [
        "df.loc[0, 'label'] = 0\n",
        "#df.loc[5249, 'label'] = 0\n",
        "df = df.sort_index() # 정렬\n",
        "df.loc[:]"
      ],
      "execution_count": 0,
      "outputs": [
        {
          "output_type": "execute_result",
          "data": {
            "text/html": [
              "<div>\n",
              "<style scoped>\n",
              "    .dataframe tbody tr th:only-of-type {\n",
              "        vertical-align: middle;\n",
              "    }\n",
              "\n",
              "    .dataframe tbody tr th {\n",
              "        vertical-align: top;\n",
              "    }\n",
              "\n",
              "    .dataframe thead th {\n",
              "        text-align: right;\n",
              "    }\n",
              "</style>\n",
              "<table border=\"1\" class=\"dataframe\">\n",
              "  <thead>\n",
              "    <tr style=\"text-align: right;\">\n",
              "      <th></th>\n",
              "      <th>sentence</th>\n",
              "      <th>label</th>\n",
              "    </tr>\n",
              "  </thead>\n",
              "  <tbody>\n",
              "    <tr>\n",
              "      <th>0</th>\n",
              "      <td>FADE IN</td>\n",
              "      <td>0</td>\n",
              "    </tr>\n",
              "    <tr>\n",
              "      <th>1</th>\n",
              "      <td>ON BLACK SCREEN</td>\n",
              "      <td>5</td>\n",
              "    </tr>\n",
              "    <tr>\n",
              "      <th>2</th>\n",
              "      <td>SPORTSCASTER'S VOICE (V.O.)</td>\n",
              "      <td>2</td>\n",
              "    </tr>\n",
              "    <tr>\n",
              "      <th>3</th>\n",
              "      <td>Allright, bowl bid ridin' here for</td>\n",
              "      <td>3</td>\n",
              "    </tr>\n",
              "    <tr>\n",
              "      <th>4</th>\n",
              "      <td>E.S.U. Fourth down on the Georgia</td>\n",
              "      <td>3</td>\n",
              "    </tr>\n",
              "    <tr>\n",
              "      <th>...</th>\n",
              "      <td>...</td>\n",
              "      <td>...</td>\n",
              "    </tr>\n",
              "    <tr>\n",
              "      <th>5021</th>\n",
              "      <td>on to;;;</td>\n",
              "      <td>3</td>\n",
              "    </tr>\n",
              "    <tr>\n",
              "      <th>5022</th>\n",
              "      <td>They continue down the tunnel toward a new rec...</td>\n",
              "      <td>1</td>\n",
              "    </tr>\n",
              "    <tr>\n",
              "      <th>5023</th>\n",
              "      <td>another year in the annals of The Program.</td>\n",
              "      <td>1</td>\n",
              "    </tr>\n",
              "    <tr>\n",
              "      <th>5024</th>\n",
              "      <td>...</td>\n",
              "      <td>0</td>\n",
              "    </tr>\n",
              "    <tr>\n",
              "      <th>5025</th>\n",
              "      <td>THE END</td>\n",
              "      <td>0</td>\n",
              "    </tr>\n",
              "  </tbody>\n",
              "</table>\n",
              "<p>5026 rows × 2 columns</p>\n",
              "</div>"
            ],
            "text/plain": [
              "                                               sentence label\n",
              "0                                               FADE IN     0\n",
              "1                                       ON BLACK SCREEN     5\n",
              "2                           SPORTSCASTER'S VOICE (V.O.)     2\n",
              "3                    Allright, bowl bid ridin' here for     3\n",
              "4                     E.S.U. Fourth down on the Georgia     3\n",
              "...                                                 ...   ...\n",
              "5021                                           on to;;;     3\n",
              "5022  They continue down the tunnel toward a new rec...     1\n",
              "5023         another year in the annals of The Program.     1\n",
              "5024                                                ...     0\n",
              "5025                                            THE END     0\n",
              "\n",
              "[5026 rows x 2 columns]"
            ]
          },
          "metadata": {
            "tags": []
          },
          "execution_count": 26
        }
      ]
    },
    {
      "cell_type": "code",
      "metadata": {
        "id": "OGJPQ6iOunUP",
        "colab_type": "code",
        "outputId": "49319fd7-0a1a-4e47-af0c-4f800ce3ef77",
        "colab": {
          "base_uri": "https://localhost:8080/",
          "height": 269
        }
      },
      "source": [
        "# 결과\n",
        "df = df.sort_index() # 정렬\n",
        "\n",
        "for x, row in enumerate(df.iterrows()):\n",
        "    if df.loc[x, 'label'] == 0:\n",
        "        print(df.loc[x, 'sentence'], \"                  index of data >> \", x)"
      ],
      "execution_count": 0,
      "outputs": [
        {
          "output_type": "stream",
          "text": [
            "               FADE IN                   index of data >>  0\n",
            "                                                            INSTANT CUT TO:                   index of data >>  7\n",
            "               $400,000,000.                   index of data >>  108\n",
            "                                                               DISSOLVE TO:                   index of data >>  608\n",
            "                                                              SMASH CUT TO:                   index of data >>  849\n",
            "                                                              SMASH CUT TO:                   index of data >>  1140\n",
            "                                                                  FADE OUT:                   index of data >>  1198\n",
            "                                                                    CUT TO:                   index of data >>  1470\n",
            "                                                              SMASH CUT TO:                   index of data >>  1868\n",
            "                                                           FADE THROUGH TO:                   index of data >>  1999\n",
            "                                                               DISSOLVE TO:                   index of data >>  3930\n",
            "                                                               DISSOLVE TO:                   index of data >>  4418\n",
            "                                                               DISSOLVE TO:                   index of data >>  4424\n",
            "                                                                   FADE OUT                   index of data >>  5024\n",
            "                                         THE END                   index of data >>  5025\n"
          ],
          "name": "stdout"
        }
      ]
    },
    {
      "cell_type": "code",
      "metadata": {
        "id": "YL1u0eiLnub1",
        "colab_type": "code",
        "colab": {}
      },
      "source": [
        "# 예외처리\n",
        "df.loc[108, 'label'] = 1"
      ],
      "execution_count": 0,
      "outputs": []
    },
    {
      "cell_type": "code",
      "metadata": {
        "id": "0m4e7ZrFVlex",
        "colab_type": "code",
        "colab": {}
      },
      "source": [
        "# 인물 명 내에 괄호 제거 -> 고치기\n",
        "p_re = re.compile('\\([^\\)]+\\)')\n",
        "for x, row in enumerate(df.iterrows()):\n",
        "    if df.loc[x, 'label'] == 2:\n",
        "        if p_re.search(df.loc[x, 'sentence']):\n",
        "            df.loc[x, 'sentence'] = p_re.sub(\"\", df.loc[x, 'sentence']).strip()"
      ],
      "execution_count": 0,
      "outputs": []
    },
    {
      "cell_type": "code",
      "metadata": {
        "id": "-D682AHgnxXk",
        "colab_type": "code",
        "outputId": "59aa5b0c-e63c-460a-9745-32c62c1c5dd2",
        "colab": {
          "base_uri": "https://localhost:8080/",
          "height": 965
        }
      },
      "source": [
        "df.loc[:30]"
      ],
      "execution_count": 0,
      "outputs": [
        {
          "output_type": "execute_result",
          "data": {
            "text/html": [
              "<div>\n",
              "<style scoped>\n",
              "    .dataframe tbody tr th:only-of-type {\n",
              "        vertical-align: middle;\n",
              "    }\n",
              "\n",
              "    .dataframe tbody tr th {\n",
              "        vertical-align: top;\n",
              "    }\n",
              "\n",
              "    .dataframe thead th {\n",
              "        text-align: right;\n",
              "    }\n",
              "</style>\n",
              "<table border=\"1\" class=\"dataframe\">\n",
              "  <thead>\n",
              "    <tr style=\"text-align: right;\">\n",
              "      <th></th>\n",
              "      <th>sentence</th>\n",
              "      <th>label</th>\n",
              "    </tr>\n",
              "  </thead>\n",
              "  <tbody>\n",
              "    <tr>\n",
              "      <th>0</th>\n",
              "      <td>FADE IN</td>\n",
              "      <td>0</td>\n",
              "    </tr>\n",
              "    <tr>\n",
              "      <th>1</th>\n",
              "      <td>ON BLACK SCREEN</td>\n",
              "      <td>5</td>\n",
              "    </tr>\n",
              "    <tr>\n",
              "      <th>2</th>\n",
              "      <td>SPORTSCASTER'S VOICE</td>\n",
              "      <td>2</td>\n",
              "    </tr>\n",
              "    <tr>\n",
              "      <th>3</th>\n",
              "      <td>Allright, bowl bid ridin' here for</td>\n",
              "      <td>3</td>\n",
              "    </tr>\n",
              "    <tr>\n",
              "      <th>4</th>\n",
              "      <td>E.S.U. Fourth down on the Georgia</td>\n",
              "      <td>3</td>\n",
              "    </tr>\n",
              "    <tr>\n",
              "      <th>5</th>\n",
              "      <td>Tech 18. 4 ticks left. Kane sets 'em</td>\n",
              "      <td>3</td>\n",
              "    </tr>\n",
              "    <tr>\n",
              "      <th>6</th>\n",
              "      <td>down.</td>\n",
              "      <td>3</td>\n",
              "    </tr>\n",
              "    <tr>\n",
              "      <th>7</th>\n",
              "      <td>...</td>\n",
              "      <td>0</td>\n",
              "    </tr>\n",
              "    <tr>\n",
              "      <th>8</th>\n",
              "      <td>LINE OF TAPED KNUCKLES</td>\n",
              "      <td>5</td>\n",
              "    </tr>\n",
              "    <tr>\n",
              "      <th>9</th>\n",
              "      <td>NIGHT</td>\n",
              "      <td>6</td>\n",
              "    </tr>\n",
              "    <tr>\n",
              "      <th>10</th>\n",
              "      <td>smashing into the mud, as a football OFFENSIVE...</td>\n",
              "      <td>1</td>\n",
              "    </tr>\n",
              "    <tr>\n",
              "      <th>11</th>\n",
              "      <td>set, frosted breath steaming across to:</td>\n",
              "      <td>1</td>\n",
              "    </tr>\n",
              "    <tr>\n",
              "      <th>12</th>\n",
              "      <td>The DEFENSIVE LINE digging in, ready to explode.</td>\n",
              "      <td>1</td>\n",
              "    </tr>\n",
              "    <tr>\n",
              "      <th>13</th>\n",
              "      <td>CLOSE ON JOE KANE</td>\n",
              "      <td>5</td>\n",
              "    </tr>\n",
              "    <tr>\n",
              "      <th>14</th>\n",
              "      <td>E.S.U. quarterback, barking signals. The ball ...</td>\n",
              "      <td>1</td>\n",
              "    </tr>\n",
              "    <tr>\n",
              "      <th>15</th>\n",
              "      <td>and we go to SLOW MOTION as the lines crash to...</td>\n",
              "      <td>1</td>\n",
              "    </tr>\n",
              "    <tr>\n",
              "      <th>16</th>\n",
              "      <td>slop.</td>\n",
              "      <td>1</td>\n",
              "    </tr>\n",
              "    <tr>\n",
              "      <th>17</th>\n",
              "      <td>Joe rolls to the right, looking downfield. A h...</td>\n",
              "      <td>1</td>\n",
              "    </tr>\n",
              "    <tr>\n",
              "      <th>18</th>\n",
              "      <td>END bears down on him. Joe jukes. The end whip...</td>\n",
              "      <td>1</td>\n",
              "    </tr>\n",
              "    <tr>\n",
              "      <th>19</th>\n",
              "      <td>grabbing for jersey, slipping off. But big NUM...</td>\n",
              "      <td>1</td>\n",
              "    </tr>\n",
              "    <tr>\n",
              "      <th>20</th>\n",
              "      <td>closing the gap. On the run, Joe releases a de...</td>\n",
              "      <td>1</td>\n",
              "    </tr>\n",
              "    <tr>\n",
              "      <th>21</th>\n",
              "      <td>toward the end zone, just as 75 catches him an...</td>\n",
              "      <td>1</td>\n",
              "    </tr>\n",
              "    <tr>\n",
              "      <th>22</th>\n",
              "      <td>face-down in the swamp.</td>\n",
              "      <td>1</td>\n",
              "    </tr>\n",
              "    <tr>\n",
              "      <th>23</th>\n",
              "      <td>We FOLLOW THE BALL, spiraling through the slan...</td>\n",
              "      <td>1</td>\n",
              "    </tr>\n",
              "    <tr>\n",
              "      <th>24</th>\n",
              "      <td>GRIFFEN, black running back, glances back for ...</td>\n",
              "      <td>1</td>\n",
              "    </tr>\n",
              "    <tr>\n",
              "      <th>25</th>\n",
              "      <td>DEFENSIVE BACKS with him. All three leap in un...</td>\n",
              "      <td>1</td>\n",
              "    </tr>\n",
              "    <tr>\n",
              "      <th>26</th>\n",
              "      <td>as high as they can, clutching, clawing for th...</td>\n",
              "      <td>1</td>\n",
              "    </tr>\n",
              "    <tr>\n",
              "      <th>27</th>\n",
              "      <td>ball floats down, kisses off the tangle of fin...</td>\n",
              "      <td>1</td>\n",
              "    </tr>\n",
              "    <tr>\n",
              "      <th>28</th>\n",
              "      <td>to the ground, and rolls to a stop in the mud....</td>\n",
              "      <td>1</td>\n",
              "    </tr>\n",
              "    <tr>\n",
              "      <th>29</th>\n",
              "      <td>The BANG of the final gun snaps us back to LIV...</td>\n",
              "      <td>1</td>\n",
              "    </tr>\n",
              "    <tr>\n",
              "      <th>30</th>\n",
              "      <td>Joe on his knees in the muck, stares at the go...</td>\n",
              "      <td>1</td>\n",
              "    </tr>\n",
              "  </tbody>\n",
              "</table>\n",
              "</div>"
            ],
            "text/plain": [
              "                                             sentence label\n",
              "0                                             FADE IN     0\n",
              "1                                     ON BLACK SCREEN     5\n",
              "2                                SPORTSCASTER'S VOICE     2\n",
              "3                  Allright, bowl bid ridin' here for     3\n",
              "4                   E.S.U. Fourth down on the Georgia     3\n",
              "5                Tech 18. 4 ticks left. Kane sets 'em     3\n",
              "6                                               down.     3\n",
              "7                                                 ...     0\n",
              "8                              LINE OF TAPED KNUCKLES     5\n",
              "9                                               NIGHT     6\n",
              "10  smashing into the mud, as a football OFFENSIVE...     1\n",
              "11            set, frosted breath steaming across to:     1\n",
              "12   The DEFENSIVE LINE digging in, ready to explode.     1\n",
              "13                                  CLOSE ON JOE KANE     5\n",
              "14  E.S.U. quarterback, barking signals. The ball ...     1\n",
              "15  and we go to SLOW MOTION as the lines crash to...     1\n",
              "16                                              slop.     1\n",
              "17  Joe rolls to the right, looking downfield. A h...     1\n",
              "18  END bears down on him. Joe jukes. The end whip...     1\n",
              "19  grabbing for jersey, slipping off. But big NUM...     1\n",
              "20  closing the gap. On the run, Joe releases a de...     1\n",
              "21  toward the end zone, just as 75 catches him an...     1\n",
              "22                            face-down in the swamp.     1\n",
              "23  We FOLLOW THE BALL, spiraling through the slan...     1\n",
              "24  GRIFFEN, black running back, glances back for ...     1\n",
              "25  DEFENSIVE BACKS with him. All three leap in un...     1\n",
              "26  as high as they can, clutching, clawing for th...     1\n",
              "27  ball floats down, kisses off the tangle of fin...     1\n",
              "28  to the ground, and rolls to a stop in the mud....     1\n",
              "29  The BANG of the final gun snaps us back to LIV...     1\n",
              "30  Joe on his knees in the muck, stares at the go...     1"
            ]
          },
          "metadata": {
            "tags": []
          },
          "execution_count": 30
        }
      ]
    },
    {
      "cell_type": "markdown",
      "metadata": {
        "id": "XzPlJOlzDQf6",
        "colab_type": "text"
      },
      "source": [
        "데이터 저장"
      ]
    },
    {
      "cell_type": "code",
      "metadata": {
        "id": "0d-LhMaOnPAv",
        "colab_type": "code",
        "colab": {}
      },
      "source": [
        "df.to_csv(tagging_link, index = False)"
      ],
      "execution_count": 0,
      "outputs": []
    }
  ]
}