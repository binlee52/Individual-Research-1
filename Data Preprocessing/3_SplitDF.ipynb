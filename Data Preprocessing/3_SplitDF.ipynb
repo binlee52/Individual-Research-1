{
  "nbformat": 4,
  "nbformat_minor": 0,
  "metadata": {
    "colab": {
      "name": "SplitDF.ipynb",
      "provenance": [],
      "collapsed_sections": [],
      "authorship_tag": "ABX9TyOjwX8Cbkia3qSjsrITz29F",
      "include_colab_link": true
    },
    "kernelspec": {
      "name": "python3",
      "display_name": "Python 3"
    },
    "accelerator": "GPU"
  },
  "cells": [
    {
      "cell_type": "markdown",
      "metadata": {
        "id": "view-in-github",
        "colab_type": "text"
      },
      "source": [
        "<a href=\"https://colab.research.google.com/github/binlee52/Individaul-Research-1/blob/Data-Preprocessing/3_SplitDF.ipynb\" target=\"_parent\"><img src=\"https://colab.research.google.com/assets/colab-badge.svg\" alt=\"Open In Colab\"/></a>"
      ]
    },
    {
      "cell_type": "markdown",
      "metadata": {
        "id": "pgl9LqiWeCyS",
        "colab_type": "text"
      },
      "source": [
        "# Tagging 방법\n",
        "\n",
        "**태깅** 요소 \n",
        "\n",
        "상황설명 : 1<br>\n",
        "등장인물 : 2<br>\n",
        "대사 : 3<br>\n",
        "지시사항/감정 : 4<br>\n",
        "장소 : 5<br>\n",
        "시간 : 6<br>\n",
        "시대 : 7<br>\n",
        "그 외 : 0<br>"
      ]
    },
    {
      "cell_type": "code",
      "metadata": {
        "id": "u9pBG0t7KIA-",
        "colab_type": "code",
        "colab": {}
      },
      "source": [
        "# Google drive 연결\n",
        "from google.colab import drive\n",
        "drive.mount('/content/drive')"
      ],
      "execution_count": 0,
      "outputs": []
    },
    {
      "cell_type": "code",
      "metadata": {
        "id": "fQl9RTEnKJ34",
        "colab_type": "code",
        "colab": {}
      },
      "source": [
        "import pandas as pd\n",
        "import nltk\n",
        "nltk.download('punkt')\n",
        "from nltk.tokenize import sent_tokenize"
      ],
      "execution_count": 0,
      "outputs": []
    },
    {
      "cell_type": "code",
      "metadata": {
        "id": "XCk0-F41Xldm",
        "colab_type": "code",
        "outputId": "4c48e39f-ec77-4825-a9b7-fd312f7a60cc",
        "colab": {
          "base_uri": "https://localhost:8080/",
          "height": 50
        }
      },
      "source": [
        "link = \"/content/drive/My Drive/Colab Notebooks/datasets/movie_Action.csv\"                  # movie_Action.csv load\n",
        "index = 196 # 태깅할 영화 선택\n",
        "data = pd.read_csv(link)                # movie_Action data의 Data Frame 생성\n",
        "imdbID = data.loc[index, 'imdb_id']     # imdb id 추출\n",
        "print(data.loc[index, 'movie_name'])\n",
        "print(imdbID)\n",
        "del data"
      ],
      "execution_count": 0,
      "outputs": [
        {
          "output_type": "stream",
          "text": [
            "Reindeer Games\n",
            "tt0184858\n"
          ],
          "name": "stdout"
        }
      ]
    },
    {
      "cell_type": "code",
      "metadata": {
        "id": "feO2ehJDXtF4",
        "colab_type": "code",
        "colab": {}
      },
      "source": [
        "tagging_link = \"/content/drive/My Drive/Colab Notebooks/tagged_script/\" + imdbID + \".csv\"\n",
        "data = pd.read_csv(tagging_link)\n",
        "data[:]"
      ],
      "execution_count": 0,
      "outputs": []
    },
    {
      "cell_type": "code",
      "metadata": {
        "id": "PXxagiuDVrtx",
        "colab_type": "code",
        "outputId": "109d9fa8-8f09-497d-bda6-01bb23750014",
        "colab": {
          "base_uri": "https://localhost:8080/",
          "height": 34
        }
      },
      "source": [
        "#del df\n",
        "df = pd.DataFrame(columns=[\"sentence\", \"label\"])    # tagged scrpt의 Data Frame 생성\n",
        "df.columns"
      ],
      "execution_count": 0,
      "outputs": [
        {
          "output_type": "execute_result",
          "data": {
            "text/plain": [
              "Index(['sentence', 'label'], dtype='object')"
            ]
          },
          "metadata": {
            "tags": []
          },
          "execution_count": 7
        }
      ]
    },
    {
      "cell_type": "markdown",
      "metadata": {
        "id": "0AdMwjn9Tvt7",
        "colab_type": "text"
      },
      "source": [
        "# Splict Sentence\n",
        "(1) 문장 단위로 구성될 수 있도록 .?! 등을 기준으로 문장을 나눈다.\n",
        "\n",
        "(2) 임시로 ;;;로 변경했던 ...은 다시 ...으로 돌려준다."
      ]
    },
    {
      "cell_type": "code",
      "metadata": {
        "id": "20Ix-GXlWT34",
        "colab_type": "code",
        "colab": {}
      },
      "source": [
        "import re\n",
        "p = re.compile('\\;\\;\\;')\n",
        "cnt = 0\n",
        "for index, row in data.iterrows():\n",
        "    if (row[\"label\"] == 3 or row[\"label\"] == 1):\n",
        "        w = row['sentence']\n",
        "        split_s = sent_tokenize(w)\n",
        "        for s in split_s:\n",
        "            #s = re.sub('\\;\\;\\;', '...', s)\n",
        "            df.loc[cnt, 'sentence'] = s\n",
        "            df.loc[cnt, 'label'] =  row['label']\n",
        "            cnt += 1\n",
        "    else:\n",
        "        df.loc[cnt, \"sentence\"] = row['sentence']\n",
        "        df.loc[cnt, \"label\"] = row['label']\n",
        "        cnt += 1\n"
      ],
      "execution_count": 0,
      "outputs": []
    },
    {
      "cell_type": "code",
      "metadata": {
        "id": "q75JCRfnYpLy",
        "colab_type": "code",
        "colab": {}
      },
      "source": [
        "df[:]"
      ],
      "execution_count": 0,
      "outputs": []
    },
    {
      "cell_type": "markdown",
      "metadata": {
        "id": "xDN-u1TKhKHd",
        "colab_type": "text"
      },
      "source": [
        "# space * 2 제거"
      ]
    },
    {
      "cell_type": "code",
      "metadata": {
        "id": "e1ApFWs2ZoCE",
        "colab_type": "code",
        "outputId": "097372f0-3c7f-4244-c53b-8dabf24f4e77",
        "colab": {
          "base_uri": "https://localhost:8080/",
          "height": 34
        }
      },
      "source": [
        "#del df2\n",
        "df2 = pd.DataFrame(columns=[\"sentence\", \"label\"])    # tagged scrpt의 Data Frame 생성\n",
        "df2.columns"
      ],
      "execution_count": 0,
      "outputs": [
        {
          "output_type": "execute_result",
          "data": {
            "text/plain": [
              "Index(['sentence', 'label'], dtype='object')"
            ]
          },
          "metadata": {
            "tags": []
          },
          "execution_count": 18
        }
      ]
    },
    {
      "cell_type": "code",
      "metadata": {
        "id": "rvFyHf9VrBvD",
        "colab_type": "code",
        "colab": {}
      },
      "source": [
        "import re\n",
        "del_space = re.compile('\\s{2,}')\n",
        "del_dot = re.compile('^\\.$')"
      ],
      "execution_count": 0,
      "outputs": []
    },
    {
      "cell_type": "code",
      "metadata": {
        "id": "umYIHwQNn5ib",
        "colab_type": "code",
        "colab": {}
      },
      "source": [
        "cnt = 0\n",
        "for index, row in df.iterrows():\n",
        "    if del_space.search(row['sentence']):\n",
        "        s = row['sentence']\n",
        "        while del_space.search(s):\n",
        "            s = del_space.sub(' ', s)\n",
        "        df2.loc[cnt, 'sentence'] = s\n",
        "        df2.loc[cnt, 'label'] = row['label']\n",
        "        cnt += 1\n",
        "    else:\n",
        "        df2.loc[cnt, \"sentence\"] = row['sentence']\n",
        "        df2.loc[cnt, \"label\"] = row['label']\n",
        "        cnt += 1\n",
        "\n",
        "del df\n",
        "df = pd.DataFrame(columns=['sentence', 'label'])\n",
        "df = df2\n",
        "del df2\n",
        "df.loc[:]"
      ],
      "execution_count": 0,
      "outputs": []
    },
    {
      "cell_type": "markdown",
      "metadata": {
        "id": "R9ZHoNxHg7kG",
        "colab_type": "text"
      },
      "source": [
        "# 불필요한 - 제거"
      ]
    },
    {
      "cell_type": "code",
      "metadata": {
        "id": "9TFjwnl0wmVY",
        "colab_type": "code",
        "colab": {}
      },
      "source": [
        "#del df2\n",
        "df2 = pd.DataFrame(columns=[\"sentence\", \"label\"])    # tagged scrpt의 Data Frame 생성\n",
        "df2.columns"
      ],
      "execution_count": 0,
      "outputs": []
    },
    {
      "cell_type": "code",
      "metadata": {
        "id": "SXW8I3FgxdoB",
        "colab_type": "code",
        "colab": {}
      },
      "source": [
        "del_slash = re.compile('\\s*\\-+\\s*\\-*\\s*\\-+\\s*[a-z]')\n",
        "del_slash_sub = re.compile('\\s*\\-+\\s*\\-*\\s*\\-+\\s*')\n",
        "# - 제거된 sentence 제거\n",
        "cnt = 0\n",
        "for index, row in df.iterrows():\n",
        "    if (row['label'] == 1 or row['label'] == 3) and del_slash.search(row['sentence']):\n",
        "        temp = del_slash_sub.sub(' ', row['sentence']).strip()\n",
        "        df.loc[cnt, \"sentence\"] = temp\n",
        "        df.loc[cnt, \"label\"] = row['label']\n",
        "        cnt += 1\n",
        "    else:\n",
        "        cnt += 1\n",
        "df[:]"
      ],
      "execution_count": 0,
      "outputs": []
    },
    {
      "cell_type": "markdown",
      "metadata": {
        "id": "buTnZ_xAg1NR",
        "colab_type": "text"
      },
      "source": [
        "# 특이 케이스 검색"
      ]
    },
    {
      "cell_type": "code",
      "metadata": {
        "id": "aU-wIN2vy3hR",
        "colab_type": "code",
        "outputId": "e4eba0f1-7775-40a6-97e6-fb0523c7f501",
        "colab": {
          "base_uri": "https://localhost:8080/",
          "height": 622
        }
      },
      "source": [
        "#특이케이스 검색\n",
        "cnt = 0\n",
        "for index, row in df.iterrows():\n",
        "    if len(row['sentence']) == 1:\n",
        "        print(index, \">>\", \"Sentence: \", row['sentence'], \" Label: \", row['label'])"
      ],
      "execution_count": 0,
      "outputs": [
        {
          "output_type": "stream",
          "text": [
            "466 >> Sentence:  !  Label:  3\n",
            "480 >> Sentence:  !  Label:  3\n",
            "505 >> Sentence:  !  Label:  3\n",
            "510 >> Sentence:  !  Label:  3\n",
            "520 >> Sentence:  !  Label:  3\n",
            "896 >> Sentence:  !  Label:  3\n",
            "1085 >> Sentence:  !  Label:  3\n",
            "1175 >> Sentence:  !  Label:  3\n",
            "1188 >> Sentence:  !  Label:  3\n",
            "1261 >> Sentence:  ?  Label:  3\n",
            "1267 >> Sentence:  ?  Label:  3\n",
            "1274 >> Sentence:  ?  Label:  3\n",
            "1277 >> Sentence:  !  Label:  3\n",
            "1374 >> Sentence:  !  Label:  3\n",
            "1394 >> Sentence:  !  Label:  3\n",
            "1559 >> Sentence:  !  Label:  3\n",
            "1892 >> Sentence:  !  Label:  3\n",
            "2370 >> Sentence:  !  Label:  3\n",
            "2472 >> Sentence:  !  Label:  3\n",
            "2546 >> Sentence:  !  Label:  3\n",
            "2608 >> Sentence:  !  Label:  3\n",
            "2646 >> Sentence:  !  Label:  3\n",
            "2707 >> Sentence:  !  Label:  3\n",
            "2718 >> Sentence:  !  Label:  3\n",
            "2871 >> Sentence:  ?  Label:  3\n",
            "4101 >> Sentence:  !  Label:  3\n",
            "4117 >> Sentence:  !  Label:  3\n",
            "4196 >> Sentence:  !  Label:  3\n",
            "4321 >> Sentence:  ?  Label:  3\n",
            "4334 >> Sentence:  !  Label:  3\n",
            "4399 >> Sentence:  !  Label:  3\n",
            "4413 >> Sentence:  !  Label:  3\n",
            "4425 >> Sentence:  !  Label:  3\n",
            "4516 >> Sentence:  !  Label:  3\n",
            "4819 >> Sentence:  !  Label:  3\n",
            "4858 >> Sentence:  !  Label:  3\n"
          ],
          "name": "stdout"
        }
      ]
    },
    {
      "cell_type": "code",
      "metadata": {
        "id": "M1yRKfSa8g0V",
        "colab_type": "code",
        "outputId": "d0ab4d2b-3747-46bd-84f3-e51abb47ff8f",
        "colab": {
          "base_uri": "https://localhost:8080/",
          "height": 336
        }
      },
      "source": [
        "#특이케이스 검색\n",
        "cnt = 0\n",
        "for index, row in df.iterrows():\n",
        "    if row['label'] == 0:\n",
        "        print(index, \">>\", row['sentence'])"
      ],
      "execution_count": 0,
      "outputs": [
        {
          "output_type": "stream",
          "text": [
            "0 >> \"REINDEER GAMES\"\n",
            "1 >> Screenplay by\n",
            "2 >> Ehren Kruger\n",
            "3 >> FADE IN:\n",
            "50 >> CUT TO BLACK:\n",
            "54 >> FADE IN:\n",
            "87 >> CUT TO:\n",
            "585 >> CUT TO:\n",
            "687 >> CUT TO:\n",
            "795 >> SMASH CUT TO:\n",
            "2789 >> CUT TO:\n",
            "3645 >> DISSOLVE TO:\n",
            "3793 >> CUT TO:\n",
            "4351 >> BACK TO GABRIEL:\n",
            "4826 >> SLOW DISSOLVE TO:\n",
            "4867 >> DISSOLVE TO:\n",
            "4880 >> DISSOLVE TO:\n",
            "4925 >> CUT TO BLACK.\n",
            "4926 >> THE END\n"
          ],
          "name": "stdout"
        }
      ]
    },
    {
      "cell_type": "markdown",
      "metadata": {
        "id": "U4uwYdleVUQH",
        "colab_type": "text"
      },
      "source": [
        "# 오류 수정\n",
        "\n",
        "여러개의 !?. 이 사용되어 잘못 split 된 !?. 을 원래대로 수정"
      ]
    },
    {
      "cell_type": "code",
      "metadata": {
        "id": "iKcOzA0Hgob1",
        "colab_type": "code",
        "outputId": "db25d866-538a-4298-8edf-e144d8a3ade3",
        "colab": {
          "base_uri": "https://localhost:8080/",
          "height": 34
        }
      },
      "source": [
        "del df2\n",
        "df2 = pd.DataFrame(columns=[\"sentence\", \"label\"])    # tagged scrpt의 Data Frame 생성\n",
        "df2.columns"
      ],
      "execution_count": 0,
      "outputs": [
        {
          "output_type": "execute_result",
          "data": {
            "text/plain": [
              "Index(['sentence', 'label'], dtype='object')"
            ]
          },
          "metadata": {
            "tags": []
          },
          "execution_count": 27
        }
      ]
    },
    {
      "cell_type": "code",
      "metadata": {
        "id": "2m5jvxWO9Hhm",
        "colab_type": "code",
        "colab": {}
      },
      "source": [
        "# !?. 으로만 된 sentence 제거\n",
        "cnt = 0\n",
        "temp_end = \"\"\n",
        "for index, row in df.iterrows():\n",
        "    if row['sentence'] not in ['!', '?', '.']:\n",
        "        df2.loc[cnt, \"sentence\"] = row['sentence']\n",
        "        df2.loc[cnt, \"label\"] = row['label']\n",
        "        cnt += 1\n",
        "    else:\n",
        "        df2.loc[cnt-1, \"sentence\"] = df2.loc[cnt-1, \"sentence\"] + row['sentence']\n",
        "\n",
        "del df\n",
        "df = pd.DataFrame(columns=[\"sentence\", \"label\"])\n",
        "df = df2\n",
        "del df2\n",
        "df.loc[:]"
      ],
      "execution_count": 0,
      "outputs": []
    },
    {
      "cell_type": "markdown",
      "metadata": {
        "id": "ZtkHhfyagNHl",
        "colab_type": "text"
      },
      "source": [
        "# Merge '(', ')'\n",
        "'('과 ')'이 나누어진 문장을 합친다"
      ]
    },
    {
      "cell_type": "code",
      "metadata": {
        "id": "4Gs3fjQIgtpV",
        "colab_type": "code",
        "outputId": "696dcfc4-17d7-40be-9714-82c89a1cf11a",
        "colab": {
          "base_uri": "https://localhost:8080/",
          "height": 34
        }
      },
      "source": [
        "#del df2\n",
        "df2 = pd.DataFrame(columns=[\"sentence\", \"label\"])    # tagged scrpt의 Data Frame 생성\n",
        "df2.columns"
      ],
      "execution_count": 0,
      "outputs": [
        {
          "output_type": "execute_result",
          "data": {
            "text/plain": [
              "Index(['sentence', 'label'], dtype='object')"
            ]
          },
          "metadata": {
            "tags": []
          },
          "execution_count": 29
        }
      ]
    },
    {
      "cell_type": "code",
      "metadata": {
        "id": "9oTfBNTJ-Uah",
        "colab_type": "code",
        "colab": {}
      },
      "source": [
        "cnt = 0\n",
        "parentheses_re = re.compile('[^\\(]+\\)$')\n",
        "for index, row in df.iterrows():\n",
        "    if row['label'] == 4 and parentheses_re.match(row['sentence']):\n",
        "        df2.loc[cnt-1, \"sentence\"] = df2.loc[cnt-1, \"sentence\"] + \" \" + row[\"sentence\"]\n",
        "    else:\n",
        "        df2.loc[cnt, \"sentence\"] = row[\"sentence\"]\n",
        "        df2.loc[cnt, \"label\"] = row[\"label\"]\n",
        "        cnt += 1\n",
        "\n",
        "del df\n",
        "df = pd.DataFrame(columns=[\"sentence\", \"label\"])\n",
        "df = df2\n",
        "del df2\n",
        "df.loc[:]"
      ],
      "execution_count": 0,
      "outputs": []
    },
    {
      "cell_type": "markdown",
      "metadata": {
        "id": "8QNQx6J2gfnm",
        "colab_type": "text"
      },
      "source": [
        "# Save DataFrame"
      ]
    },
    {
      "cell_type": "code",
      "metadata": {
        "id": "ZKU3I_CfbhVz",
        "colab_type": "code",
        "colab": {}
      },
      "source": [
        "df.to_csv(tagging_link, index = False)"
      ],
      "execution_count": 0,
      "outputs": []
    },
    {
      "cell_type": "code",
      "metadata": {
        "id": "IFyw-IBxgJIY",
        "colab_type": "code",
        "colab": {}
      },
      "source": [
        ""
      ],
      "execution_count": 0,
      "outputs": []
    }
  ]
}