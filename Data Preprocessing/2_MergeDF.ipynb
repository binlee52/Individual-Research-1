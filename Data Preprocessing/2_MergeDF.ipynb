{
  "nbformat": 4,
  "nbformat_minor": 0,
  "metadata": {
    "colab": {
      "name": "MergeDF.ipynb",
      "provenance": [],
      "collapsed_sections": [],
      "authorship_tag": "ABX9TyOLvFQ5cPF5LfDmVx9kMdgy",
      "include_colab_link": true
    },
    "kernelspec": {
      "name": "python3",
      "display_name": "Python 3"
    }
  },
  "cells": [
    {
      "cell_type": "markdown",
      "metadata": {
        "id": "view-in-github",
        "colab_type": "text"
      },
      "source": [
        "<a href=\"https://colab.research.google.com/github/binlee52/Individaul-Research-1/blob/Data-Preprocessing/2_MergeDF.ipynb\" target=\"_parent\"><img src=\"https://colab.research.google.com/assets/colab-badge.svg\" alt=\"Open In Colab\"/></a>"
      ]
    },
    {
      "cell_type": "code",
      "metadata": {
        "id": "XzOj2YTxPcBO",
        "colab_type": "code",
        "colab": {}
      },
      "source": [
        "# Google drive 연결\n",
        "from google.colab import drive\n",
        "drive.mount('/content/drive')"
      ],
      "execution_count": 0,
      "outputs": []
    },
    {
      "cell_type": "code",
      "metadata": {
        "id": "P2S6aIi3CFG8",
        "colab_type": "code",
        "colab": {}
      },
      "source": [
        "import pandas as pd"
      ],
      "execution_count": 0,
      "outputs": []
    },
    {
      "cell_type": "markdown",
      "metadata": {
        "id": "THTJatO7UNxz",
        "colab_type": "text"
      },
      "source": [
        "# File Link<br>\n",
        "\n",
        "csv 파일로 data frame 생성. <br>\n",
        "movie_name, imdb_id 확인 필요"
      ]
    },
    {
      "cell_type": "code",
      "metadata": {
        "id": "Kup07jtEP3eM",
        "colab_type": "code",
        "outputId": "3313aebd-0102-47b0-9ddf-7b21dd7029d9",
        "colab": {
          "base_uri": "https://localhost:8080/",
          "height": 34
        }
      },
      "source": [
        "link = \"/content/drive/My Drive/Colab Notebooks/datasets/movie_Action.csv\"                  # movie_Action.csv load\n",
        "index = 196 # 태깅할 영화 선택\n",
        "data = pd.read_csv(link)                # movie_Action data의 Data Frame 생성\n",
        "imdbID = data.loc[index, 'imdb_id']     # imdb id 추출\n",
        "print(data.loc[index, 'movie_name'])\n",
        "del data"
      ],
      "execution_count": 0,
      "outputs": [
        {
          "output_type": "stream",
          "text": [
            "Reindeer Games\n"
          ],
          "name": "stdout"
        }
      ]
    },
    {
      "cell_type": "code",
      "metadata": {
        "id": "9XwHFY9fTkXG",
        "colab_type": "code",
        "outputId": "3e8c776f-9bf3-4d61-f176-a89e8931d97e",
        "colab": {
          "base_uri": "https://localhost:8080/",
          "height": 402
        }
      },
      "source": [
        "tagging_link = \"/content/drive/My Drive/Colab Notebooks/tagged_script/\" + imdbID + \".csv\"\n",
        "data = pd.read_csv(tagging_link)\n",
        "data[:]"
      ],
      "execution_count": 0,
      "outputs": [
        {
          "output_type": "execute_result",
          "data": {
            "text/html": [
              "<div>\n",
              "<style scoped>\n",
              "    .dataframe tbody tr th:only-of-type {\n",
              "        vertical-align: middle;\n",
              "    }\n",
              "\n",
              "    .dataframe tbody tr th {\n",
              "        vertical-align: top;\n",
              "    }\n",
              "\n",
              "    .dataframe thead th {\n",
              "        text-align: right;\n",
              "    }\n",
              "</style>\n",
              "<table border=\"1\" class=\"dataframe\">\n",
              "  <thead>\n",
              "    <tr style=\"text-align: right;\">\n",
              "      <th></th>\n",
              "      <th>sentence</th>\n",
              "      <th>label</th>\n",
              "    </tr>\n",
              "  </thead>\n",
              "  <tbody>\n",
              "    <tr>\n",
              "      <th>0</th>\n",
              "      <td>\"REINDEER GAMES\"</td>\n",
              "      <td>0</td>\n",
              "    </tr>\n",
              "    <tr>\n",
              "      <th>1</th>\n",
              "      <td>Screenplay by</td>\n",
              "      <td>0</td>\n",
              "    </tr>\n",
              "    <tr>\n",
              "      <th>2</th>\n",
              "      <td>Ehren Kruger</td>\n",
              "      <td>0</td>\n",
              "    </tr>\n",
              "    <tr>\n",
              "      <th>3</th>\n",
              "      <td>FADE IN:</td>\n",
              "      <td>0</td>\n",
              "    </tr>\n",
              "    <tr>\n",
              "      <th>4</th>\n",
              "      <td>FIGURE IN A SANTA CLAUS SUIT</td>\n",
              "      <td>1</td>\n",
              "    </tr>\n",
              "    <tr>\n",
              "      <th>...</th>\n",
              "      <td>...</td>\n",
              "      <td>...</td>\n",
              "    </tr>\n",
              "    <tr>\n",
              "      <th>5105</th>\n",
              "      <td>...and at the head of the table...</td>\n",
              "      <td>1</td>\n",
              "    </tr>\n",
              "    <tr>\n",
              "      <th>5106</th>\n",
              "      <td>Rudy Duncan.</td>\n",
              "      <td>1</td>\n",
              "    </tr>\n",
              "    <tr>\n",
              "      <th>5107</th>\n",
              "      <td>Home for Christmas.</td>\n",
              "      <td>1</td>\n",
              "    </tr>\n",
              "    <tr>\n",
              "      <th>5108</th>\n",
              "      <td>CUT TO BLACK.</td>\n",
              "      <td>5</td>\n",
              "    </tr>\n",
              "    <tr>\n",
              "      <th>5109</th>\n",
              "      <td>THE END</td>\n",
              "      <td>0</td>\n",
              "    </tr>\n",
              "  </tbody>\n",
              "</table>\n",
              "<p>5110 rows × 2 columns</p>\n",
              "</div>"
            ],
            "text/plain": [
              "                                         sentence  label\n",
              "0                                \"REINDEER GAMES\"      0\n",
              "1                                   Screenplay by      0\n",
              "2                                    Ehren Kruger      0\n",
              "3                                        FADE IN:      0\n",
              "4                    FIGURE IN A SANTA CLAUS SUIT      1\n",
              "...                                           ...    ...\n",
              "5105           ...and at the head of the table...      1\n",
              "5106                                 Rudy Duncan.      1\n",
              "5107                          Home for Christmas.      1\n",
              "5108                                CUT TO BLACK.      5\n",
              "5109                                      THE END      0\n",
              "\n",
              "[5110 rows x 2 columns]"
            ]
          },
          "metadata": {
            "tags": []
          },
          "execution_count": 4
        }
      ]
    },
    {
      "cell_type": "code",
      "metadata": {
        "id": "B_vqvw8LQEeh",
        "colab_type": "code",
        "outputId": "8e366905-8cdf-43c9-967c-2a90f8efe363",
        "colab": {
          "base_uri": "https://localhost:8080/",
          "height": 34
        }
      },
      "source": [
        "#del df\n",
        "df = pd.DataFrame(columns=[\"sentence\", \"label\"])    # tagged scrpt의 Data Frame 생성\n",
        "df.columns"
      ],
      "execution_count": 0,
      "outputs": [
        {
          "output_type": "execute_result",
          "data": {
            "text/plain": [
              "Index(['sentence', 'label'], dtype='object')"
            ]
          },
          "metadata": {
            "tags": []
          },
          "execution_count": 5
        }
      ]
    },
    {
      "cell_type": "markdown",
      "metadata": {
        "id": "v47Sfo2-Ttm8",
        "colab_type": "text"
      },
      "source": [
        "# Merge<br>\n",
        "csv 파일에 분할되어 저장된 문장(대사, 설명문)을 합친다."
      ]
    },
    {
      "cell_type": "code",
      "metadata": {
        "id": "SZX1heIrQavh",
        "colab_type": "code",
        "colab": {}
      },
      "source": [
        "temp = \"\"\n",
        "cnt = 0\n",
        "for index, row in data.iterrows():\n",
        "    if ((index + 1 != len(data)) and data.loc[index + 1, \"label\"] == row[\"label\"] and (row[\"label\"] == 3 or row[\"label\"] == 1)):\n",
        "        temp += \" \" + row[\"sentence\"].strip()\n",
        "        temp = temp.strip()\n",
        "    else:\n",
        "        temp += \" \" + row[\"sentence\"].strip()\n",
        "        temp = temp.strip()\n",
        "        df.loc[cnt, \"sentence\"] = temp\n",
        "        df.loc[cnt, \"label\"] = row[\"label\"]\n",
        "        temp = \"\"\n",
        "        cnt += 1\n"
      ],
      "execution_count": 0,
      "outputs": []
    },
    {
      "cell_type": "code",
      "metadata": {
        "id": "9aH1iN9_Qajd",
        "colab_type": "code",
        "outputId": "fd0d51ee-6d73-4735-fae2-0e1b60682c84",
        "colab": {
          "base_uri": "https://localhost:8080/",
          "height": 402
        }
      },
      "source": [
        "df.loc[3109, 'label'] = 0\n",
        "df[:]"
      ],
      "execution_count": 0,
      "outputs": [
        {
          "output_type": "execute_result",
          "data": {
            "text/html": [
              "<div>\n",
              "<style scoped>\n",
              "    .dataframe tbody tr th:only-of-type {\n",
              "        vertical-align: middle;\n",
              "    }\n",
              "\n",
              "    .dataframe tbody tr th {\n",
              "        vertical-align: top;\n",
              "    }\n",
              "\n",
              "    .dataframe thead th {\n",
              "        text-align: right;\n",
              "    }\n",
              "</style>\n",
              "<table border=\"1\" class=\"dataframe\">\n",
              "  <thead>\n",
              "    <tr style=\"text-align: right;\">\n",
              "      <th></th>\n",
              "      <th>sentence</th>\n",
              "      <th>label</th>\n",
              "    </tr>\n",
              "  </thead>\n",
              "  <tbody>\n",
              "    <tr>\n",
              "      <th>0</th>\n",
              "      <td>\"REINDEER GAMES\"</td>\n",
              "      <td>0</td>\n",
              "    </tr>\n",
              "    <tr>\n",
              "      <th>1</th>\n",
              "      <td>Screenplay by</td>\n",
              "      <td>0</td>\n",
              "    </tr>\n",
              "    <tr>\n",
              "      <th>2</th>\n",
              "      <td>Ehren Kruger</td>\n",
              "      <td>0</td>\n",
              "    </tr>\n",
              "    <tr>\n",
              "      <th>3</th>\n",
              "      <td>FADE IN:</td>\n",
              "      <td>0</td>\n",
              "    </tr>\n",
              "    <tr>\n",
              "      <th>4</th>\n",
              "      <td>FIGURE IN A SANTA CLAUS SUIT lies face-down in...</td>\n",
              "      <td>1</td>\n",
              "    </tr>\n",
              "    <tr>\n",
              "      <th>...</th>\n",
              "      <td>...</td>\n",
              "      <td>...</td>\n",
              "    </tr>\n",
              "    <tr>\n",
              "      <th>3106</th>\n",
              "      <td>FATHER</td>\n",
              "      <td>2</td>\n",
              "    </tr>\n",
              "    <tr>\n",
              "      <th>3107</th>\n",
              "      <td>Son? Is... is that you...?</td>\n",
              "      <td>3</td>\n",
              "    </tr>\n",
              "    <tr>\n",
              "      <th>3108</th>\n",
              "      <td>The Santa Claus shuffles inside, right past th...</td>\n",
              "      <td>1</td>\n",
              "    </tr>\n",
              "    <tr>\n",
              "      <th>3109</th>\n",
              "      <td>CUT TO BLACK.</td>\n",
              "      <td>0</td>\n",
              "    </tr>\n",
              "    <tr>\n",
              "      <th>3110</th>\n",
              "      <td>THE END</td>\n",
              "      <td>0</td>\n",
              "    </tr>\n",
              "  </tbody>\n",
              "</table>\n",
              "<p>3111 rows × 2 columns</p>\n",
              "</div>"
            ],
            "text/plain": [
              "                                               sentence label\n",
              "0                                      \"REINDEER GAMES\"     0\n",
              "1                                         Screenplay by     0\n",
              "2                                          Ehren Kruger     0\n",
              "3                                              FADE IN:     0\n",
              "4     FIGURE IN A SANTA CLAUS SUIT lies face-down in...     1\n",
              "...                                                 ...   ...\n",
              "3106                                             FATHER     2\n",
              "3107                         Son? Is... is that you...?     3\n",
              "3108  The Santa Claus shuffles inside, right past th...     1\n",
              "3109                                      CUT TO BLACK.     0\n",
              "3110                                            THE END     0\n",
              "\n",
              "[3111 rows x 2 columns]"
            ]
          },
          "metadata": {
            "tags": []
          },
          "execution_count": 8
        }
      ]
    },
    {
      "cell_type": "markdown",
      "metadata": {
        "id": "aVJGllPbVLu7",
        "colab_type": "text"
      },
      "source": [
        "# Data Load<br>\n",
        "생성한 파일 저장\n",
        "초기 불러온 파일위치, 명으로 저장"
      ]
    },
    {
      "cell_type": "code",
      "metadata": {
        "id": "rWw64L5eQaYA",
        "colab_type": "code",
        "colab": {}
      },
      "source": [
        "df.to_csv(tagging_link, index = False)"
      ],
      "execution_count": 0,
      "outputs": []
    }
  ]
}